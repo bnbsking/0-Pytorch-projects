{
 "cells": [
  {
   "cell_type": "code",
   "execution_count": 1,
   "id": "ad2145ef",
   "metadata": {},
   "outputs": [
    {
     "name": "stdout",
     "output_type": "stream",
     "text": [
      "True GeForce GTX 1650 with Max-Q Design True\n"
     ]
    }
   ],
   "source": [
    "import numpy as np\n",
    "import matplotlib.pyplot as plt\n",
    "import torch\n",
    "print(torch.cuda.is_available(), torch.cuda.get_device_name(0), torch.backends.cudnn.is_available())\n",
    "from torchvision import datasets\n",
    "from torch.utils.data import TensorDataset, DataLoader\n",
    "from torch import nn"
   ]
  },
  {
   "cell_type": "code",
   "execution_count": 2,
   "id": "29a19c6f",
   "metadata": {},
   "outputs": [
    {
     "name": "stdout",
     "output_type": "stream",
     "text": [
      "60000 (28, 28) 5 10000\n"
     ]
    },
    {
     "name": "stderr",
     "output_type": "stream",
     "text": [
      "C:\\Users\\James\\miniconda3\\envs\\pytorch\\lib\\site-packages\\torchvision\\datasets\\mnist.py:498: UserWarning: The given NumPy array is not writeable, and PyTorch does not support non-writeable tensors. This means you can write to the underlying (supposedly non-writeable) NumPy array using the tensor. You may want to copy the array to protect its data or make it writeable before converting it to a tensor. This type of warning will be suppressed for the rest of this program. (Triggered internally at  ..\\torch\\csrc\\utils\\tensor_numpy.cpp:180.)\n",
      "  return torch.from_numpy(parsed.astype(m[2], copy=False)).view(*s)\n"
     ]
    }
   ],
   "source": [
    "train = datasets.MNIST(root=\".\", train=True, download=True)\n",
    "test = datasets.MNIST(root=\".\", train=False, download=True)\n",
    "print(len(train), np.array(train[0][0]).shape, train[0][1], len(test)) # (PIL,int) for each data"
   ]
  },
  {
   "cell_type": "code",
   "execution_count": 15,
   "id": "90e8cd84",
   "metadata": {},
   "outputs": [
    {
     "data": {
      "image/png": "[encoded data removed]",
      "text/plain": [
       "<Figure size 1440x360 with 10 Axes>"
      ]
     },
     "metadata": {
      "needs_background": "light"
     },
     "output_type": "display_data"
    }
   ],
   "source": [
    "xTrain, yTrain = np.zeros((len(train),784)), np.zeros(len(train), dtype=np.int)\n",
    "for i in range(len(train)):\n",
    "    xTrain[i] = np.array(train[i][0]).reshape(784)/255.\n",
    "    yTrain[i] = train[i][1]\n",
    "xTest, yTest = np.zeros((len(test),784)), np.zeros(len(test), dtype=np.int)\n",
    "for i in range(len(test)):\n",
    "    xTest[i] = np.array(test[i][0]).reshape(784)/255.\n",
    "    yTest[i] = test[i][1]\n",
    "\n",
    "plt.figure(figsize=(20,5))\n",
    "for i in range(10):\n",
    "    plt.subplot(1,10,i+1)\n",
    "    plt.imshow(xTrain[i].reshape(28,28))\n",
    "    plt.title(train[i][1], fontsize=20)\n",
    "    plt.axis(\"off\")\n",
    "plt.show()"
   ]
  },
  {
   "cell_type": "code",
   "execution_count": 4,
   "id": "343a0098",
   "metadata": {},
   "outputs": [],
   "source": [
    "device = \"cuda\" if torch.cuda.is_available() else \"cpu\"\n",
    "trainDataset = TensorDataset(torch.Tensor(xTrain).to(device), \\\n",
    "    torch.Tensor(yTrain).type(torch.long).to(device))\n",
    "testDataset  = TensorDataset(torch.Tensor(xTest).to(device), \\\n",
    "    torch.Tensor(yTest).type(torch.long).to(device))\n",
    "\n",
    "batch_size = 64\n",
    "trainDataLoader = DataLoader(trainDataset, batch_size=batch_size, shuffle=True)\n",
    "testDataLoader  = DataLoader(testDataset, batch_size=batch_size, shuffle=True)"
   ]
  },
  {
   "cell_type": "code",
   "execution_count": 5,
   "id": "ba405145",
   "metadata": {},
   "outputs": [
    {
     "name": "stdout",
     "output_type": "stream",
     "text": [
      "NeuralNetwork(\n",
      "  (linear_relu_stack): Sequential(\n",
      "    (0): Linear(in_features=784, out_features=512, bias=True)\n",
      "    (1): ReLU()\n",
      "    (2): Linear(in_features=512, out_features=512, bias=True)\n",
      "    (3): ReLU()\n",
      "    (4): Linear(in_features=512, out_features=10, bias=True)\n",
      "    (5): ReLU()\n",
      "  )\n",
      ")\n"
     ]
    }
   ],
   "source": [
    "class NeuralNetwork(nn.Module):\n",
    "    def __init__(self):\n",
    "        super(NeuralNetwork, self).__init__()\n",
    "        #self.flatten = nn.Flatten()\n",
    "        self.linear_relu_stack = nn.Sequential(\n",
    "            nn.Linear(28*28, 512),\n",
    "            nn.ReLU(),\n",
    "            nn.Linear(512, 512),\n",
    "            nn.ReLU(),\n",
    "            nn.Linear(512, 10),\n",
    "            nn.ReLU()\n",
    "        )\n",
    "    def forward(self, x):\n",
    "        #x = self.flatten(x)\n",
    "        logits = self.linear_relu_stack(x)\n",
    "        return logits\n",
    "\n",
    "model = NeuralNetwork().to(device)\n",
    "print(model)"
   ]
  },
  {
   "cell_type": "code",
   "execution_count": 6,
   "id": "618837fb",
   "metadata": {},
   "outputs": [],
   "source": [
    "learning_rate = 1e-3\n",
    "epochs = 10\n",
    "loss_fn = nn.CrossEntropyLoss() # auto cross-entropy\n",
    "optimizer = torch.optim.SGD(model.parameters(), lr=learning_rate)\n",
    "\n",
    "def train_loop(dataloader, model, loss_fn, optimizer):\n",
    "    size = len(dataloader.dataset)\n",
    "    for batch, (X, y) in enumerate(dataloader):\n",
    "        pred = model(X)\n",
    "        loss = loss_fn(pred, y)\n",
    "        optimizer.zero_grad()   # reset gradient value, otherwise keep adding up\n",
    "        loss.backward()         # back propagation \n",
    "        optimizer.step()        # update all the model parameters\n",
    "        if batch % 100 == 0:\n",
    "            loss, current = loss.item(), batch * len(X)  # loss:tensor; loss.item():value\n",
    "            print(f\"loss: {loss:>7f}  [{current:>5d}/{size:>5d}]\")\n",
    "\n",
    "def test_loop(dataloader, model, loss_fn):\n",
    "    size = len(dataloader.dataset)\n",
    "    test_loss, correct = 0, 0\n",
    "    with torch.no_grad():\n",
    "        for X, y in dataloader:\n",
    "            pred = model(X)\n",
    "            test_loss += loss_fn(pred, y).item()\n",
    "            correct += (pred.argmax(1) == y).type(torch.float).sum().item()\n",
    "    test_loss /= size\n",
    "    correct /= size\n",
    "    print(f\"Test Error: \\n Accuracy: {(100*correct):>0.1f}%, Avg loss: {test_loss:>8f} \\n\")"
   ]
  },
  {
   "cell_type": "code",
   "execution_count": 7,
   "id": "3d5f6bbc",
   "metadata": {},
   "outputs": [
    {
     "name": "stdout",
     "output_type": "stream",
     "text": [
      "Epoch 1\n",
      "-------------------------------\n",
      "loss: 2.298216  [    0/60000]\n",
      "loss: 2.299073  [ 6400/60000]\n",
      "loss: 2.299296  [12800/60000]\n",
      "loss: 2.293498  [19200/60000]\n",
      "loss: 2.289381  [25600/60000]\n",
      "loss: 2.289098  [32000/60000]\n",
      "loss: 2.281966  [38400/60000]\n",
      "loss: 2.279065  [44800/60000]\n",
      "loss: 2.274619  [51200/60000]\n",
      "loss: 2.263486  [57600/60000]\n",
      "Test Error: \n",
      " Accuracy: 45.7%, Avg loss: 0.035632 \n",
      "\n",
      "Epoch 2\n",
      "-------------------------------\n",
      "loss: 2.268719  [    0/60000]\n",
      "loss: 2.271034  [ 6400/60000]\n",
      "loss: 2.271018  [12800/60000]\n",
      "loss: 2.248596  [19200/60000]\n",
      "loss: 2.251954  [25600/60000]\n",
      "loss: 2.257789  [32000/60000]\n",
      "loss: 2.236063  [38400/60000]\n",
      "loss: 2.249322  [44800/60000]\n",
      "loss: 2.230089  [51200/60000]\n",
      "loss: 2.214587  [57600/60000]\n",
      "Test Error: \n",
      " Accuracy: 56.6%, Avg loss: 0.034897 \n",
      "\n",
      "Epoch 3\n",
      "-------------------------------\n",
      "loss: 2.210853  [    0/60000]\n",
      "loss: 2.237665  [ 6400/60000]\n",
      "loss: 2.210038  [12800/60000]\n",
      "loss: 2.222396  [19200/60000]\n",
      "loss: 2.196933  [25600/60000]\n",
      "loss: 2.172534  [32000/60000]\n",
      "loss: 2.157737  [38400/60000]\n",
      "loss: 2.155232  [44800/60000]\n",
      "loss: 2.152097  [51200/60000]\n",
      "loss: 2.135811  [57600/60000]\n",
      "Test Error: \n",
      " Accuracy: 57.5%, Avg loss: 0.033757 \n",
      "\n",
      "Epoch 4\n",
      "-------------------------------\n",
      "loss: 2.119380  [    0/60000]\n",
      "loss: 2.187721  [ 6400/60000]\n",
      "loss: 2.111140  [12800/60000]\n",
      "loss: 2.131226  [19200/60000]\n",
      "loss: 2.069801  [25600/60000]\n",
      "loss: 2.119250  [32000/60000]\n",
      "loss: 2.073150  [38400/60000]\n",
      "loss: 2.088498  [44800/60000]\n",
      "loss: 1.976925  [51200/60000]\n",
      "loss: 2.053195  [57600/60000]\n",
      "Test Error: \n",
      " Accuracy: 58.9%, Avg loss: 0.031904 \n",
      "\n",
      "Epoch 5\n",
      "-------------------------------\n",
      "loss: 2.056144  [    0/60000]\n",
      "loss: 2.013593  [ 6400/60000]\n",
      "loss: 1.960451  [12800/60000]\n",
      "loss: 1.968457  [19200/60000]\n",
      "loss: 1.999655  [25600/60000]\n",
      "loss: 1.977525  [32000/60000]\n",
      "loss: 1.966508  [38400/60000]\n",
      "loss: 1.889177  [44800/60000]\n",
      "loss: 1.856225  [51200/60000]\n",
      "loss: 1.823348  [57600/60000]\n",
      "Test Error: \n",
      " Accuracy: 61.6%, Avg loss: 0.028992 \n",
      "\n",
      "Epoch 6\n",
      "-------------------------------\n",
      "loss: 1.914782  [    0/60000]\n",
      "loss: 1.860828  [ 6400/60000]\n",
      "loss: 1.748764  [12800/60000]\n",
      "loss: 1.721016  [19200/60000]\n",
      "loss: 1.730820  [25600/60000]\n",
      "loss: 1.778750  [32000/60000]\n",
      "loss: 1.576419  [38400/60000]\n",
      "loss: 1.762138  [44800/60000]\n",
      "loss: 1.624247  [51200/60000]\n",
      "loss: 1.522042  [57600/60000]\n",
      "Test Error: \n",
      " Accuracy: 65.9%, Avg loss: 0.025229 \n",
      "\n",
      "Epoch 7\n",
      "-------------------------------\n",
      "loss: 1.749974  [    0/60000]\n",
      "loss: 1.571779  [ 6400/60000]\n",
      "loss: 1.638846  [12800/60000]\n",
      "loss: 1.527210  [19200/60000]\n",
      "loss: 1.465643  [25600/60000]\n",
      "loss: 1.754243  [32000/60000]\n",
      "loss: 1.433956  [38400/60000]\n",
      "loss: 1.291682  [44800/60000]\n",
      "loss: 1.548276  [51200/60000]\n",
      "loss: 1.515709  [57600/60000]\n",
      "Test Error: \n",
      " Accuracy: 70.5%, Avg loss: 0.021436 \n",
      "\n",
      "Epoch 8\n",
      "-------------------------------\n",
      "loss: 1.336231  [    0/60000]\n",
      "loss: 1.542253  [ 6400/60000]\n",
      "loss: 1.091772  [12800/60000]\n",
      "loss: 1.349197  [19200/60000]\n",
      "loss: 1.151993  [25600/60000]\n",
      "loss: 1.259930  [32000/60000]\n",
      "loss: 1.387148  [38400/60000]\n",
      "loss: 1.064952  [44800/60000]\n",
      "loss: 1.256537  [51200/60000]\n",
      "loss: 1.120125  [57600/60000]\n",
      "Test Error: \n",
      " Accuracy: 74.2%, Avg loss: 0.018476 \n",
      "\n",
      "Epoch 9\n",
      "-------------------------------\n",
      "loss: 0.964093  [    0/60000]\n",
      "loss: 1.224873  [ 6400/60000]\n",
      "loss: 1.201200  [12800/60000]\n",
      "loss: 1.233741  [19200/60000]\n",
      "loss: 1.039757  [25600/60000]\n",
      "loss: 1.128006  [32000/60000]\n",
      "loss: 1.074009  [38400/60000]\n",
      "loss: 0.920600  [44800/60000]\n",
      "loss: 0.944317  [51200/60000]\n",
      "loss: 1.172360  [57600/60000]\n",
      "Test Error: \n",
      " Accuracy: 76.1%, Avg loss: 0.016408 \n",
      "\n",
      "Epoch 10\n",
      "-------------------------------\n",
      "loss: 0.910338  [    0/60000]\n",
      "loss: 0.853151  [ 6400/60000]\n",
      "loss: 0.930314  [12800/60000]\n",
      "loss: 1.010099  [19200/60000]\n",
      "loss: 0.923509  [25600/60000]\n",
      "loss: 0.914781  [32000/60000]\n",
      "loss: 0.778682  [38400/60000]\n",
      "loss: 0.834902  [44800/60000]\n",
      "loss: 1.112941  [51200/60000]\n",
      "loss: 1.069656  [57600/60000]\n",
      "Test Error: \n",
      " Accuracy: 77.5%, Avg loss: 0.014978 \n",
      "\n",
      "Done!\n",
      "27.896063089370728\n"
     ]
    }
   ],
   "source": [
    "import time\n",
    "start = time.time()\n",
    "for t in range(epochs):\n",
    "    print(f\"Epoch {t+1}\\n-------------------------------\")\n",
    "    train_loop(trainDataLoader, model, loss_fn, optimizer)\n",
    "    test_loop(testDataLoader, model, loss_fn)\n",
    "print(\"Done!\")\n",
    "print(time.time()-start)"
   ]
  },
  {
   "cell_type": "code",
   "execution_count": null,
   "id": "a0df5a23",
   "metadata": {},
   "outputs": [],
   "source": [
    "\"GPU time:10, CPU time:50, 5 times\""
   ]
  },
  {
   "cell_type": "code",
   "execution_count": 17,
   "id": "df70d56e",
   "metadata": {},
   "outputs": [
    {
     "data": {
      "image/png": "[encoded data removed]",
      "text/plain": [
       "<Figure size 1440x360 with 10 Axes>"
      ]
     },
     "metadata": {
      "needs_background": "light"
     },
     "output_type": "display_data"
    },
    {
     "name": "stdout",
     "output_type": "stream",
     "text": [
      "TRUE [7 2 1 0 4 1 4 9 5 9]\n",
      "PRED [7 2 1 0 4 1 4 4 6 7]\n"
     ]
    }
   ],
   "source": [
    "model.eval() # (+no_grad) turn off gradient while inference # model.train() turn on gradient\n",
    "with torch.no_grad():\n",
    "    pred = model( torch.Tensor(xTest).to(device) )\n",
    "\n",
    "plt.figure(figsize=(20,5))\n",
    "for i in range(10):\n",
    "    plt.subplot(1,10,i+1)\n",
    "    plt.imshow(xTest[i].reshape(28,28))\n",
    "    plt.axis(\"off\")\n",
    "plt.show()\n",
    "print( \"TRUE\", yTest[:10] )\n",
    "print( \"PRED\", pred[:10].argmax(dim=1).to(\"cpu\").numpy() )"
   ]
  },
  {
   "cell_type": "code",
   "execution_count": 20,
   "id": "c80e9a19",
   "metadata": {},
   "outputs": [],
   "source": [
    "torch.save(model, \"mnist.pth\")"
   ]
  },
  {
   "cell_type": "code",
   "execution_count": 21,
   "id": "98cf85af",
   "metadata": {},
   "outputs": [
    {
     "name": "stdout",
     "output_type": "stream",
     "text": [
      "NeuralNetwork(\n",
      "  (linear_relu_stack): Sequential(\n",
      "    (0): Linear(in_features=784, out_features=512, bias=True)\n",
      "    (1): ReLU()\n",
      "    (2): Linear(in_features=512, out_features=512, bias=True)\n",
      "    (3): ReLU()\n",
      "    (4): Linear(in_features=512, out_features=10, bias=True)\n",
      "    (5): ReLU()\n",
      "  )\n",
      ")\n"
     ]
    }
   ],
   "source": [
    "model = torch.load(\"mnist.pth\")\n",
    "print(model)"
   ]
  },
  {
   "cell_type": "code",
   "execution_count": null,
   "id": "172bb242",
   "metadata": {},
   "outputs": [],
   "source": [
    "from torchvision.models.detection import "
   ]
  }
 ],
 "metadata": {
  "kernelspec": {
   "display_name": "Python 3",
   "language": "python",
   "name": "python3"
  },
  "language_info": {
   "codemirror_mode": {
    "name": "ipython",
    "version": 3
   },
   "file_extension": ".py",
   "mimetype": "text/x-python",
   "name": "python",
   "nbconvert_exporter": "python",
   "pygments_lexer": "ipython3",
   "version": "3.6.13"
  }
 },
 "nbformat": 4,
 "nbformat_minor": 5
}
