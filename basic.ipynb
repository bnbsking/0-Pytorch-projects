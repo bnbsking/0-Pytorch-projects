{
 "cells": [
  {
   "cell_type": "code",
   "execution_count": 1,
   "id": "alien-diploma",
   "metadata": {},
   "outputs": [
    {
     "name": "stdout",
     "output_type": "stream",
     "text": [
      "True True GeForce GTX 1650 with Max-Q Design\n"
     ]
    }
   ],
   "source": [
    "import torch\n",
    "print(torch.cuda.is_available(), torch.backends.cudnn.is_available(), torch.cuda.get_device_name(0))\n",
    "from torch import nn\n",
    "from torch.utils.data import DataLoader    # DataLoader: dataset generator\n",
    "from torchvision import datasets           # datasets: TorchText, TorchVision, and TorchAudio\n",
    "from torchvision.transforms import ToTensor, Lambda, Compose\n",
    "import matplotlib.pyplot as plt\n",
    "import numpy as np"
   ]
  },
  {
   "cell_type": "code",
   "execution_count": 39,
   "id": "e81c62d7",
   "metadata": {},
   "outputs": [
    {
     "name": "stdout",
     "output_type": "stream",
     "text": [
      "cuda\n",
      "tensor([[1., 2., 3.],\n",
      "        [4., 5., 6.]]) torch.Size([2, 3]) torch.Size([2, 3]) 2 torch.float32 cpu\n",
      "tensor([[ 2.,  4.,  6.],\n",
      "        [ 8., 10., 12.]]) \n",
      " tensor([[0., 0., 0.],\n",
      "        [0., 0., 0.]]) \n",
      " tensor([[ 1.,  4.,  9.],\n",
      "        [16., 25., 36.]]) \n",
      " tensor([[1., 1., 1.],\n",
      "        [1., 1., 1.]])\n",
      "tensor([[1., 2., 3.],\n",
      "        [4., 5., 6.]], requires_grad=True)\n",
      "tensor([[1., 2., 3.],\n",
      "        [4., 5., 6.]], device='cuda:0', grad_fn=<CopyBackwards>)\n",
      "[[1. 2. 3.]\n",
      " [4. 5. 6.]] \n",
      "\n",
      "tensor([[0, 0, 0, 0],\n",
      "        [0, 0, 0, 0]], dtype=torch.int32)\n",
      "tensor([[1., 1., 1., 1.],\n",
      "        [1., 1., 1., 1.]], device='cuda:0', dtype=torch.float64)\n",
      "tensor([[0.4451, 0.0390, 0.6835],\n",
      "        [0.3232, 0.2523, 0.8295]], device='cuda:0')\n"
     ]
    }
   ],
   "source": [
    "#* FIRST LOOK OF TENSOR\n",
    "\n",
    "# class torch.device (str)\n",
    "device = torch.device('cuda')\n",
    "print(device)\n",
    "\n",
    "# class torch.Tensor (list/numpy) # method/attributes: size(), shape, dtype\n",
    "# printable, iterable, calculatable\n",
    "T1 = torch.Tensor([[1,2,3],[4,5,6]])\n",
    "T2 = torch.Tensor(np.array([[1,2,3],[4,5,6]]))\n",
    "print(T1, T1.size(), T1.shape, T1.shape[0], T1.dtype, T1.device)\n",
    "print(T1+T2, \"\\n\", T1-T2, \"\\n\", T1*T2, \"\\n\", T1/T2)\n",
    "print(T1.requires_grad_(True))\n",
    "print(T1.to(device))\n",
    "print(T2.numpy(), \"\\n\")\n",
    "\n",
    "# functions -> torch.Tensor\n",
    "print( torch.zeros((2,4), dtype=torch.int32) )\n",
    "print( torch.ones((2,4), dtype=torch.float64, device=device) )\n",
    "print( torch.rand(2, 3, device=device) )"
   ]
  },
  {
   "cell_type": "code",
   "execution_count": 60,
   "id": "30b30d13",
   "metadata": {},
   "outputs": [
    {
     "name": "stdout",
     "output_type": "stream",
     "text": [
      "60000 torch.Size([1, 28, 28]) 9\n",
      "10000 torch.Size([1, 28, 28]) 9\n",
      "torch.Size([64, 1, 28, 28]) torch.Size([64])\n",
      "torch.Size([64, 1, 28, 28]) torch.Size([64])\n"
     ]
    }
   ],
   "source": [
    "training_data = datasets.FashionMNIST(root=\"data\", train=True, download=True, transform=ToTensor())\n",
    "test_data = datasets.FashionMNIST(root=\"data\", train=False, download=True, transform=ToTensor())\n",
    "print(len(training_data), training_data[0][0].shape, training_data[0][1]) # xTrain, yTrain\n",
    "print(len(test_data), test_data[0][0].shape, test_data[0][1]) # xTest, yTest\n",
    "\n",
    "batch_size = 64\n",
    "train_dataloader = DataLoader(training_data, batch_size=batch_size, shuffle=True, pin_memory=True)\n",
    "test_dataloader = DataLoader(test_data, batch_size=batch_size, shuffle=True, pin_memory=True)\n",
    "\n",
    "for X,y in train_dataloader:\n",
    "    print(X.shape, y.shape)\n",
    "    break\n",
    "for X,y in test_dataloader:\n",
    "    print(X.shape, y.shape)\n",
    "    break"
   ]
  },
  {
   "cell_type": "code",
   "execution_count": 56,
   "id": "b2a07675",
   "metadata": {},
   "outputs": [
    {
     "data": {
      "image/png": "[encoded data removed]",
      "text/plain": [
       "<Figure size 1440x360 with 10 Axes>"
      ]
     },
     "metadata": {
      "needs_background": "light"
     },
     "output_type": "display_data"
    }
   ],
   "source": [
    "category = [\"T-Shirt\", \"Trouser\", \"Pullover\", \"Dress\", \"Coat\", \"Sandal\", \"Shirt\", \"Sneaker\", \\\n",
    "    \"Bag\", \"Ankle Boot\"]\n",
    "plt.figure(figsize=(20,5))\n",
    "for i in range(1,10+1):\n",
    "    plt.subplot(1,10,i)\n",
    "    plt.imshow(training_data[i][0].reshape(28,28,1))\n",
    "    plt.title(category[training_data[i][1]])\n",
    "    plt.axis(\"off\")\n",
    "plt.show()"
   ]
  },
  {
   "cell_type": "code",
   "execution_count": 4,
   "id": "a8f673ff",
   "metadata": {},
   "outputs": [
    {
     "name": "stdout",
     "output_type": "stream",
     "text": [
      "2 2\n",
      "torch.Size([1, 3]) torch.Size([1])\n",
      "torch.Size([1, 3]) torch.Size([1])\n"
     ]
    }
   ],
   "source": [
    "#* PREPARE CUSTOM DATA\n",
    "from torch.utils.data import TensorDataset # torch.Tensor -> torch.dataset\n",
    "xTrain, yTrain = np.array([[1.,2,3],[3,4,5]]), np.array([4,2])\n",
    "xVal,   yVal   = np.array([[5.,6,7],[7,8,9]]), np.array([6,8])\n",
    "\n",
    "my_train_dataset = TensorDataset(torch.Tensor(xTrain), torch.Tensor(yTrain))\n",
    "my_val_dataset   = TensorDataset(torch.Tensor(xVal), torch.Tensor(yVal))\n",
    "print(len(my_train_dataset), len(my_val_dataset))\n",
    "my_train_dataloader = DataLoader(my_train_dataset)\n",
    "my_val_dataloader   = DataLoader(my_val_dataset)\n",
    "for X,y in my_train_dataloader:\n",
    "    print(X.shape, y.shape)\n",
    "    break\n",
    "for X,y in my_val_dataloader:\n",
    "    print(X.shape, y.shape)\n",
    "    break"
   ]
  },
  {
   "cell_type": "code",
   "execution_count": 18,
   "id": "7e286fbb",
   "metadata": {},
   "outputs": [
    {
     "name": "stdout",
     "output_type": "stream",
     "text": [
      "Using cuda device\n",
      "NeuralNetwork(\n",
      "  (flatten): Flatten(start_dim=1, end_dim=-1)\n",
      "  (linear_relu_stack): Sequential(\n",
      "    (0): Linear(in_features=784, out_features=512, bias=True)\n",
      "    (1): ReLU()\n",
      "    (2): Linear(in_features=512, out_features=512, bias=True)\n",
      "    (3): ReLU()\n",
      "    (4): Linear(in_features=512, out_features=10, bias=True)\n",
      "    (5): ReLU()\n",
      "  )\n",
      ")\n",
      "\n",
      "Layer: linear_relu_stack.0.weight | Size: torch.Size([512, 784]) | Values : tensor([[-0.0084, -0.0294,  0.0281,  ...,  0.0056, -0.0040,  0.0194],\n",
      "        [-0.0238, -0.0249, -0.0075,  ..., -0.0255, -0.0146,  0.0005]],\n",
      "       device='cuda:0', grad_fn=<SliceBackward>) \n",
      "\n",
      "Layer: linear_relu_stack.0.bias | Size: torch.Size([512]) | Values : tensor([0.0351, 0.0114], device='cuda:0', grad_fn=<SliceBackward>) \n",
      "\n",
      "Layer: linear_relu_stack.2.weight | Size: torch.Size([512, 512]) | Values : tensor([[-0.0119,  0.0270,  0.0268,  ...,  0.0322, -0.0022,  0.0266],\n",
      "        [-0.0266, -0.0128, -0.0145,  ...,  0.0096,  0.0175, -0.0049]],\n",
      "       device='cuda:0', grad_fn=<SliceBackward>) \n",
      "\n",
      "Layer: linear_relu_stack.2.bias | Size: torch.Size([512]) | Values : tensor([0.0327, 0.0155], device='cuda:0', grad_fn=<SliceBackward>) \n",
      "\n",
      "Layer: linear_relu_stack.4.weight | Size: torch.Size([10, 512]) | Values : tensor([[ 0.0184, -0.0427,  0.0436,  ...,  0.0237,  0.0376,  0.0163],\n",
      "        [ 0.0130, -0.0106, -0.0119,  ..., -0.0331, -0.0167,  0.0441]],\n",
      "       device='cuda:0', grad_fn=<SliceBackward>) \n",
      "\n",
      "Layer: linear_relu_stack.4.bias | Size: torch.Size([10]) | Values : tensor([ 0.0166, -0.0204], device='cuda:0', grad_fn=<SliceBackward>) \n",
      "\n"
     ]
    }
   ],
   "source": [
    "device = \"cuda\" if torch.cuda.is_available() else \"cpu\"\n",
    "print(f\"Using {device} device\")\n",
    "\n",
    "class NeuralNetwork(nn.Module):\n",
    "    def __init__(self):\n",
    "        super(NeuralNetwork, self).__init__()\n",
    "        self.flatten = nn.Flatten()\n",
    "        self.linear_relu_stack = nn.Sequential(\n",
    "            nn.Linear(28*28, 512),\n",
    "            nn.ReLU(),\n",
    "            nn.Linear(512, 512),\n",
    "            nn.ReLU(),\n",
    "            nn.Linear(512, 10),\n",
    "            nn.ReLU()\n",
    "        )\n",
    "\n",
    "    def forward(self, x):\n",
    "        x = self.flatten(x)\n",
    "        logits = self.linear_relu_stack(x)\n",
    "        return logits\n",
    "\n",
    "model = NeuralNetwork().to(device)\n",
    "print(model)\n",
    "\n",
    "print()\n",
    "for name, param in model.named_parameters():\n",
    "    print(f\"Layer: {name} | Size: {param.size()} | Values : {param[:2]} \\n\")"
   ]
  },
  {
   "cell_type": "code",
   "execution_count": 6,
   "id": "1e4bb060",
   "metadata": {},
   "outputs": [
    {
     "name": "stdout",
     "output_type": "stream",
     "text": [
      "tensor([[0.0000, 0.0325, 0.0000, 0.0741, 0.0404, 0.0241, 0.0519, 0.1104, 0.0000,\n",
      "         0.0000]], device='cuda:0', grad_fn=<ReluBackward0>)\n",
      "tensor([[0.0967, 0.0999, 0.0967, 0.1041, 0.1007, 0.0990, 0.1018, 0.1079, 0.0967,\n",
      "         0.0967]], device='cuda:0', grad_fn=<SoftmaxBackward>)\n",
      "tensor([7], device='cuda:0')\n"
     ]
    }
   ],
   "source": [
    "#* Test model as function\n",
    "X = torch.rand(1, 28, 28, device=device)\n",
    "logits = model(X)                        # torch.Tensor\n",
    "print(logits)\n",
    "pred_probab = nn.Softmax(dim=1)(logits)  # dim as axis in np\n",
    "print(pred_probab)\n",
    "y_pred = pred_probab.argmax(dim=1)\n",
    "print(y_pred)"
   ]
  },
  {
   "cell_type": "code",
   "execution_count": 7,
   "id": "bb3b1bc7",
   "metadata": {},
   "outputs": [
    {
     "name": "stdout",
     "output_type": "stream",
     "text": [
      "torch.Size([3, 28, 28])\n",
      "torch.Size([3, 784])\n",
      "torch.Size([3, 20])\n",
      "torch.Size([3, 20]) tensor([0.2595, 0.0000, 0.0000, 0.0734], grad_fn=<SliceBackward>)\n"
     ]
    }
   ],
   "source": [
    "#* Breakdown the layers\n",
    "img = torch.rand(3,28,28)\n",
    "print(img.shape)\n",
    "flatImg = nn.Flatten()(img)\n",
    "print(flatImg.shape)\n",
    "hidden1 = nn.Linear(in_features=28*28, out_features=20)(flatImg)\n",
    "print(hidden1.shape)\n",
    "hidden1 = nn.ReLU()(hidden1)\n",
    "print(hidden1.shape, hidden1[0,:4])"
   ]
  },
  {
   "cell_type": "code",
   "execution_count": 8,
   "id": "7f586cd3",
   "metadata": {},
   "outputs": [
    {
     "name": "stdout",
     "output_type": "stream",
     "text": [
      "tensor([[0.0115, 0.2970, 0.0347],\n",
      "        [0.0115, 0.2970, 0.0347],\n",
      "        [0.0115, 0.2970, 0.0347],\n",
      "        [0.0115, 0.2970, 0.0347],\n",
      "        [0.0115, 0.2970, 0.0347]])\n",
      "tensor([0.0115, 0.2970, 0.0347])\n",
      "True\n",
      "False\n"
     ]
    }
   ],
   "source": [
    "#* Break down to neuron\n",
    "x = torch.ones(5)  # input tensor\n",
    "y = torch.zeros(3)  # expected output\n",
    "w = torch.randn(5, 3, requires_grad=True)\n",
    "b = torch.randn(3, requires_grad=True)\n",
    "z = torch.matmul(x, w)+b\n",
    "loss = torch.nn.functional.binary_cross_entropy_with_logits(z, y)\n",
    "loss.backward()\n",
    "print(w.grad)\n",
    "print(b.grad)\n",
    "\n",
    "z = torch.matmul(x, w)+b\n",
    "print(z.requires_grad)\n",
    "with torch.no_grad():\n",
    "    z = torch.matmul(x, w)+b\n",
    "print(z.requires_grad)"
   ]
  },
  {
   "cell_type": "code",
   "execution_count": 40,
   "id": "7bc1c172",
   "metadata": {},
   "outputs": [],
   "source": [
    "learning_rate = 1e-3\n",
    "batch_size = 64\n",
    "epochs = 5\n",
    "loss_fn = nn.CrossEntropyLoss()\n",
    "optimizer = torch.optim.SGD(model.parameters(), lr=learning_rate)\n",
    "\n",
    "def train_loop(dataloader, model, loss_fn, optimizer):\n",
    "    size = len(dataloader.dataset)\n",
    "    for batch, (X, y) in enumerate(dataloader):\n",
    "        X, y = X.to(device), y.to(device)\n",
    "        pred = model(X)\n",
    "        loss = loss_fn(pred, y)\n",
    "        optimizer.zero_grad()   # reset gradient value, otherwise keep adding up\n",
    "        loss.backward()         # back propagation \n",
    "        optimizer.step()        # update all the model parameters\n",
    "        if batch % 100 == 0:\n",
    "            loss, current = loss.item(), batch * len(X)  # loss:tensor; loss.item():value\n",
    "            print(f\"loss: {loss:>7f}  [{current:>5d}/{size:>5d}]\")\n",
    "\n",
    "def test_loop(dataloader, model, loss_fn):\n",
    "    size = len(dataloader.dataset)\n",
    "    test_loss, correct = 0, 0\n",
    "    with torch.no_grad():\n",
    "        for X, y in dataloader:\n",
    "            X, y = X.to(device), y.to(device)\n",
    "            pred = model(X)\n",
    "            test_loss += loss_fn(pred, y).item()\n",
    "            correct += (pred.argmax(1) == y).type(torch.float).sum().item()\n",
    "    test_loss /= size\n",
    "    correct /= size\n",
    "    print(f\"Test Error: \\n Accuracy: {(100*correct):>0.1f}%, Avg loss: {test_loss:>8f} \\n\")"
   ]
  },
  {
   "cell_type": "code",
   "execution_count": 20,
   "id": "f72fbaa6",
   "metadata": {},
   "outputs": [
    {
     "name": "stdout",
     "output_type": "stream",
     "text": [
      "Epoch 1\n",
      "-------------------------------\n",
      "loss: 2.298584  [    0/60000]\n",
      "loss: 2.286709  [ 6400/60000]\n",
      "loss: 2.277588  [12800/60000]\n",
      "loss: 2.264051  [19200/60000]\n",
      "loss: 2.259507  [25600/60000]\n",
      "loss: 2.237830  [32000/60000]\n",
      "loss: 2.242566  [38400/60000]\n",
      "loss: 2.227749  [44800/60000]\n",
      "loss: 2.212152  [51200/60000]\n",
      "loss: 2.210648  [57600/60000]\n",
      "Test Error: \n",
      " Accuracy: 51.9%, Avg loss: 0.034404 \n",
      "\n",
      "Epoch 2\n",
      "-------------------------------\n",
      "loss: 2.222001  [    0/60000]\n",
      "loss: 2.167550  [ 6400/60000]\n",
      "loss: 2.160888  [12800/60000]\n",
      "loss: 2.157447  [19200/60000]\n",
      "loss: 2.133245  [25600/60000]\n",
      "loss: 2.086858  [32000/60000]\n",
      "loss: 2.071297  [38400/60000]\n",
      "loss: 2.026941  [44800/60000]\n",
      "loss: 2.032431  [51200/60000]\n",
      "loss: 1.963508  [57600/60000]\n",
      "Test Error: \n",
      " Accuracy: 53.6%, Avg loss: 0.031496 \n",
      "\n",
      "Epoch 3\n",
      "-------------------------------\n",
      "loss: 2.007603  [    0/60000]\n",
      "loss: 1.983799  [ 6400/60000]\n",
      "loss: 1.987474  [12800/60000]\n",
      "loss: 1.938706  [19200/60000]\n",
      "loss: 1.882174  [25600/60000]\n",
      "loss: 1.842257  [32000/60000]\n",
      "loss: 1.825112  [38400/60000]\n",
      "loss: 1.776481  [44800/60000]\n",
      "loss: 1.716270  [51200/60000]\n",
      "loss: 1.705182  [57600/60000]\n",
      "Test Error: \n",
      " Accuracy: 57.0%, Avg loss: 0.027275 \n",
      "\n",
      "Epoch 4\n",
      "-------------------------------\n",
      "loss: 1.715055  [    0/60000]\n",
      "loss: 1.656704  [ 6400/60000]\n",
      "loss: 1.787025  [12800/60000]\n",
      "loss: 1.786244  [19200/60000]\n",
      "loss: 1.517890  [25600/60000]\n",
      "loss: 1.607642  [32000/60000]\n",
      "loss: 1.534767  [38400/60000]\n",
      "loss: 1.518507  [44800/60000]\n",
      "loss: 1.508824  [51200/60000]\n",
      "loss: 1.663425  [57600/60000]\n",
      "Test Error: \n",
      " Accuracy: 60.0%, Avg loss: 0.023535 \n",
      "\n",
      "Epoch 5\n",
      "-------------------------------\n",
      "loss: 1.426937  [    0/60000]\n",
      "loss: 1.442892  [ 6400/60000]\n",
      "loss: 1.374163  [12800/60000]\n",
      "loss: 1.387943  [19200/60000]\n",
      "loss: 1.487460  [25600/60000]\n",
      "loss: 1.323129  [32000/60000]\n",
      "loss: 1.415359  [38400/60000]\n",
      "loss: 1.523766  [44800/60000]\n",
      "loss: 1.554152  [51200/60000]\n",
      "loss: 1.378939  [57600/60000]\n",
      "Test Error: \n",
      " Accuracy: 62.0%, Avg loss: 0.020919 \n",
      "\n",
      "Done!\n",
      "117.26008868217468\n"
     ]
    }
   ],
   "source": [
    "import time\n",
    "start = time.time()\n",
    "for t in range(epochs):\n",
    "    print(f\"Epoch {t+1}\\n-------------------------------\")\n",
    "    train_loop(train_dataloader, model, loss_fn, optimizer)\n",
    "    test_loop(test_dataloader, model, loss_fn)\n",
    "print(\"Done!\")\n",
    "print(time.time()-start)"
   ]
  },
  {
   "cell_type": "code",
   "execution_count": 17,
   "id": "becd5b7f",
   "metadata": {},
   "outputs": [
    {
     "name": "stdout",
     "output_type": "stream",
     "text": [
      "Epoch 1\n",
      "-------------------------------\n",
      "loss: 2.298340  [    0/60000]\n",
      "loss: 2.292025  [ 6400/60000]\n",
      "loss: 2.292218  [12800/60000]\n",
      "loss: 2.281448  [19200/60000]\n",
      "loss: 2.266587  [25600/60000]\n",
      "loss: 2.265608  [32000/60000]\n",
      "loss: 2.240002  [38400/60000]\n",
      "loss: 2.224902  [44800/60000]\n",
      "loss: 2.232133  [51200/60000]\n",
      "loss: 2.228796  [57600/60000]\n",
      "Test Error: \n",
      " Accuracy: 40.5%, Avg loss: 0.034661 \n",
      "\n",
      "Epoch 2\n",
      "-------------------------------\n",
      "loss: 2.198206  [    0/60000]\n",
      "loss: 2.178116  [ 6400/60000]\n",
      "loss: 2.178947  [12800/60000]\n",
      "loss: 2.181710  [19200/60000]\n",
      "loss: 2.182336  [25600/60000]\n",
      "loss: 2.155269  [32000/60000]\n",
      "loss: 2.095635  [38400/60000]\n",
      "loss: 2.170511  [44800/60000]\n",
      "loss: 2.111872  [51200/60000]\n",
      "loss: 2.068193  [57600/60000]\n",
      "Test Error: \n",
      " Accuracy: 47.0%, Avg loss: 0.032197 \n",
      "\n",
      "Epoch 3\n",
      "-------------------------------\n",
      "loss: 2.084069  [    0/60000]\n",
      "loss: 2.030107  [ 6400/60000]\n",
      "loss: 2.029449  [12800/60000]\n",
      "loss: 1.951514  [19200/60000]\n",
      "loss: 1.995932  [25600/60000]\n",
      "loss: 1.953949  [32000/60000]\n",
      "loss: 1.899159  [38400/60000]\n",
      "loss: 1.791023  [44800/60000]\n",
      "loss: 1.782000  [51200/60000]\n",
      "loss: 1.824611  [57600/60000]\n",
      "Test Error: \n",
      " Accuracy: 55.3%, Avg loss: 0.028709 \n",
      "\n",
      "Epoch 4\n",
      "-------------------------------\n",
      "loss: 1.814234  [    0/60000]\n",
      "loss: 1.822681  [ 6400/60000]\n",
      "loss: 1.777578  [12800/60000]\n",
      "loss: 1.877785  [19200/60000]\n",
      "loss: 1.728117  [25600/60000]\n",
      "loss: 1.802102  [32000/60000]\n",
      "loss: 1.672153  [38400/60000]\n",
      "loss: 1.637378  [44800/60000]\n",
      "loss: 1.500869  [51200/60000]\n",
      "loss: 1.528392  [57600/60000]\n",
      "Test Error: \n",
      " Accuracy: 57.7%, Avg loss: 0.025352 \n",
      "\n",
      "Epoch 5\n",
      "-------------------------------\n",
      "loss: 1.792194  [    0/60000]\n",
      "loss: 1.631683  [ 6400/60000]\n",
      "loss: 1.487916  [12800/60000]\n",
      "loss: 1.507562  [19200/60000]\n",
      "loss: 1.603773  [25600/60000]\n",
      "loss: 1.500872  [32000/60000]\n",
      "loss: 1.317525  [38400/60000]\n",
      "loss: 1.757742  [44800/60000]\n",
      "loss: 1.509356  [51200/60000]\n",
      "loss: 1.212813  [57600/60000]\n",
      "Test Error: \n",
      " Accuracy: 58.1%, Avg loss: 0.022808 \n",
      "\n",
      "Done!\n",
      "137.4003472328186\n"
     ]
    }
   ],
   "source": [
    "start = time.time()\n",
    "for t in range(epochs):\n",
    "    print(f\"Epoch {t+1}\\n-------------------------------\")\n",
    "    train_loop(train_dataloader, model, loss_fn, optimizer)\n",
    "    test_loop(test_dataloader, model, loss_fn)\n",
    "print(\"Done!\")\n",
    "print(time.time()-start)"
   ]
  },
  {
   "cell_type": "code",
   "execution_count": 21,
   "id": "4a622314",
   "metadata": {},
   "outputs": [
    {
     "data": {
      "text/plain": [
       "1.170940170940171"
      ]
     },
     "execution_count": 21,
     "metadata": {},
     "output_type": "execute_result"
    }
   ],
   "source": [
    "137/117"
   ]
  },
  {
   "cell_type": "code",
   "execution_count": 22,
   "id": "fa22ca93",
   "metadata": {},
   "outputs": [],
   "source": [
    "torch.save(model.state_dict(), \"model.pth\")"
   ]
  },
  {
   "cell_type": "code",
   "execution_count": 24,
   "id": "72e077e7",
   "metadata": {},
   "outputs": [
    {
     "data": {
      "text/plain": [
       "tensor([[0.7125, 0.0000, 0.0000, 0.0000, 0.7555, 1.0229, 0.9819, 0.2465, 1.9116,\n",
       "         1.2813]], device='cuda:0', grad_fn=<ReluBackward0>)"
      ]
     },
     "execution_count": 24,
     "metadata": {},
     "output_type": "execute_result"
    }
   ],
   "source": [
    "model = NeuralNetwork().to(device)\n",
    "model.load_state_dict(torch.load(\"model.pth\"))\n",
    "model( torch.rand(1, 28, 28, device=device) )"
   ]
  },
  {
   "cell_type": "code",
   "execution_count": 57,
   "id": "06da4f52",
   "metadata": {},
   "outputs": [
    {
     "name": "stdout",
     "output_type": "stream",
     "text": [
      "Predicted: \"Ankle boot\", Actual: \"Ankle boot\"\n"
     ]
    }
   ],
   "source": [
    "classes = [\"T-shirt/top\", \"Trouser\", \"Pullover\", \"Dress\", \"Coat\", \"Sandal\", \"Shirt\", \"Sneaker\", \\\n",
    "    \"Bag\", \"Ankle boot\"]\n",
    "\n",
    "model.eval() # (+no_grad) turn off gradient while inference # model.train() turn on gradient\n",
    "x, y = test_data[0][0].to(device), test_data[0][1]\n",
    "with torch.no_grad():\n",
    "    pred = model(x)\n",
    "    predicted, actual = classes[pred[0].argmax(0)], classes[y]\n",
    "    print(f'Predicted: \"{predicted}\", Actual: \"{actual}\"')"
   ]
  },
  {
   "cell_type": "code",
   "execution_count": null,
   "id": "cc02aa02",
   "metadata": {},
   "outputs": [],
   "source": []
  },
  {
   "cell_type": "code",
   "execution_count": null,
   "id": "23efbd2e",
   "metadata": {},
   "outputs": [],
   "source": []
  }
 ],
 "metadata": {
  "kernelspec": {
   "display_name": "Python 3",
   "language": "python",
   "name": "python3"
  },
  "language_info": {
   "codemirror_mode": {
    "name": "ipython",
    "version": 3
   },
   "file_extension": ".py",
   "mimetype": "text/x-python",
   "name": "python",
   "nbconvert_exporter": "python",
   "pygments_lexer": "ipython3",
   "version": "3.6.13"
  }
 },
 "nbformat": 4,
 "nbformat_minor": 5
}
